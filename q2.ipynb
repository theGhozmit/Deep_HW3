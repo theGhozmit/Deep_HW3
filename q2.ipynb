{
 "cells": [
  {
   "cell_type": "markdown",
   "metadata": {},
   "source": [
    "Deformable convolution"
   ]
  },
  {
   "cell_type": "markdown",
   "metadata": {},
   "source": [
    "<div dir=\"rtl\">\n",
    "<font face=\"B Nazanin\" size=\"5\">\n",
    "سوالات تئوری :\n",
    "\n",
    "الف) در کانولوشن عادی پنجره متحرک ما از نقاط ثابتی مقدار ورودی را بر می دارد و در وزن های خود ضرب می کند و در فرآیند آموزش مقدار وزن ها را آموزش می بیند\n",
    "اما در کانولوشن قابل دیفورم مکان نقاط سمپل برداری پنجره در هر نقطه از ورودی نیز یاد گرفته می شوند\n",
    "به این صورت که به اندازه سایز کرنل ، مقدار آفست برای هر نقطه پیش بینی می شود و پنجره مکانی که آفست به آن اشاره می کند را سمپل می کند\n",
    "آفست عددی اعشاری است، به همین دلیل برای مقدار دهی به نقطه اشاره شده توسط آفست از روش  bilinear interpolation استفاده می شود\n",
    "\n",
    "ب) شبکه های کانولوشنی عادی نسبت به تغییر سایز جسم و چرخش حساس هستند اما شبکه های کانولوشنی دیفورمیبل می توانند با آفست نقاط سمپل برداری را به طوری انتخاب کنند که چرخش و تغییر سایز را خنثی کنند ، علاوه بر آن به دلیل توانایی تغییر پنجره مربعی به هر شکل هندسی دلخواه توانایی در تشخیص اجسام مختلف افزایش می یابد.\n",
    "\n",
    "ج) ماهیت شبکه کانولوشن در ابتدا این گونه بوده است که به صورتی اطلاعات را استخراج کند که به تغییر موقعیت اجسام حساس نباشد. برای همین یک پنجره متحرک در صفحه دارد، اما این قابلیت در آن پیش بینی نشده که چرخش و تغییر سایز را در نظر بگیرد . هر دو این اتفاق مکانی که پنجره از روی آن رد می شود و اعدادی که در آن قرار می گیرد را تغییر می دهند و طبیعی است که شبکه به خوبی اول خود کار نمیکند\n",
    "\n",
    "د) آفست های داخل شبکه کانولوشن دیفورمیبل خود از یک کانولوشن بر روی ورودی به دست می آیند. خروجی این شبکه یک تنسور به سایز فضایی برابر با سایز ورودی و عمق دو برابر اندازه کرنل به توان دو است. یعنی دو مقدار ایکس و وای به ازای پنجره مربوط به هر پیکسل\n",
    "</font>\n",
    "</div>\n"
   ]
  },
  {
   "cell_type": "code",
   "execution_count": 1,
   "metadata": {},
   "outputs": [],
   "source": [
    "import torch\n",
    "from torch import nn\n",
    "from torch.utils.data import DataLoader, Dataset\n",
    "from torchvision import transforms, datasets\n",
    "import matplotlib.pyplot as plt\n",
    "import numpy as np\n",
    "import torchvision\n",
    "\n",
    "device = torch.device(\"cuda:0\" if torch.cuda.is_available() else \"cpu\")"
   ]
  },
  {
   "cell_type": "markdown",
   "metadata": {},
   "source": [
    "we will use MNIST dataset\n",
    "\n",
    "deformable convolution is particularly effective when the data is rotated or scaled\n",
    "\n",
    "in order for the deformable convlution to show its effects we will do some data augmentation in the transform function"
   ]
  },
  {
   "cell_type": "code",
   "execution_count": 2,
   "metadata": {},
   "outputs": [
    {
     "data": {
      "image/png": "[encoded data removed]",
      "text/plain": [
       "<Figure size 2500x400 with 20 Axes>"
      ]
     },
     "metadata": {},
     "output_type": "display_data"
    },
    {
     "name": "stdout",
     "output_type": "stream",
     "text": [
      "torch.Size([60000, 28, 28])\n"
     ]
    }
   ],
   "source": [
    "transform = transforms.Compose([\n",
    "    transforms.ToTensor(),\n",
    "    transforms.RandomAffine(degrees=45, translate=(0.1, 0.1), scale=(0.6, 1)),\n",
    "    transforms.Normalize((0.1307,), (0.3081,))\n",
    "])\n",
    "\n",
    "mnist_train_dataset = datasets.MNIST(root='./data', train=True, download=True, transform=transform)\n",
    "mnist_test_dataset = datasets.MNIST(root='./data', train=False, download=True, transform=transform)\n",
    "\n",
    "train_loader = DataLoader(mnist_train_dataset, batch_size=64, shuffle=True)\n",
    "test_loader = DataLoader(mnist_test_dataset, batch_size=64, shuffle=False)\n",
    "\n",
    "\n",
    "dataiter = iter(train_loader)\n",
    "images, labels = next(dataiter)\n",
    "images = images.numpy()\n",
    "\n",
    "fig = plt.figure(figsize=(25, 4))\n",
    "for idx in np.arange(20):\n",
    "    ax = fig.add_subplot(2, 10, idx+1, xticks=[], yticks=[])\n",
    "    ax.imshow(np.transpose(images[idx], (1, 2, 0)), cmap='gray')\n",
    "    ax.set_title(str(labels[idx].item()))\n",
    "\n",
    "plt.show()\n",
    "print(mnist_train_dataset.data.shape)"
   ]
  },
  {
   "cell_type": "markdown",
   "metadata": {},
   "source": [
    "first we will use a very basic convolution structure with one conv layer with relu activation and one maxpool layer"
   ]
  },
  {
   "cell_type": "code",
   "execution_count": 3,
   "metadata": {},
   "outputs": [],
   "source": [
    "class reg_conv_model(nn.Module):\n",
    "    def __init__(self, in_channels, out_channels, kernel_size, stride=1, padding=1, dilation=1, bias=True):\n",
    "        super(reg_conv_model, self).__init__()\n",
    "        self.in_channels = in_channels\n",
    "        self.out_channels = out_channels\n",
    "        self.kernel_size = kernel_size\n",
    "        self.stride = stride\n",
    "        self.padding = padding\n",
    "\n",
    "        self.conv = nn.Conv2d(in_channels = in_channels, out_channels = out_channels, kernel_size = kernel_size, stride = stride, padding = padding , dilation = dilation, bias = bias)\n",
    "        self.relu = nn.ReLU()\n",
    "        self.maxpool = nn.MaxPool2d(2, 2)\n",
    "        self.flatten = nn.Flatten()\n",
    "        self.fc = nn.Linear(196, 10)\n",
    "\n",
    "    def forward(self, x):\n",
    "        x = self.conv(x)\n",
    "        x = self.relu(x)\n",
    "        x = self.maxpool(x)\n",
    "        x = self.flatten(x)\n",
    "        x = self.fc(x)\n",
    "        return x"
   ]
  },
  {
   "cell_type": "code",
   "execution_count": 4,
   "metadata": {},
   "outputs": [
    {
     "name": "stdout",
     "output_type": "stream",
     "text": [
      "epoch 0, loss 1.635800838470459\n",
      "epoch 1, loss 1.9861490726470947\n",
      "epoch 2, loss 1.683726191520691\n",
      "epoch 3, loss 1.7852516174316406\n",
      "epoch 4, loss 1.7084999084472656\n",
      "epoch 5, loss 1.6616020202636719\n",
      "epoch 6, loss 1.6778477430343628\n",
      "epoch 7, loss 1.3914309740066528\n",
      "epoch 8, loss 1.464921236038208\n",
      "epoch 9, loss 1.3676761388778687\n"
     ]
    }
   ],
   "source": [
    "# training loop\n",
    "model = reg_conv_model(1, 1, 3).to(device)\n",
    "criterion = nn.CrossEntropyLoss()\n",
    "optimizer = torch.optim.Adam(model.parameters(), lr=0.003)\n",
    "\n",
    "for epoch in range(10):\n",
    "    for i, (images, labels) in enumerate(train_loader):\n",
    "        images = images.to(device)\n",
    "        labels = labels.to(device)\n",
    "        optimizer.zero_grad()\n",
    "        outputs = model(images)\n",
    "        loss = criterion(outputs, labels)\n",
    "        loss.backward()\n",
    "        optimizer.step()\n",
    "\n",
    "    print(f'epoch {epoch}, loss {loss.item()}')"
   ]
  },
  {
   "cell_type": "code",
   "execution_count": 5,
   "metadata": {},
   "outputs": [
    {
     "name": "stdout",
     "output_type": "stream",
     "text": [
      "accuracy 0.4414\n"
     ]
    }
   ],
   "source": [
    "# test\n",
    "with torch.no_grad():\n",
    "    correct = 0\n",
    "    total = 0\n",
    "    for images, labels in test_loader:\n",
    "        images = images.to(device)\n",
    "        labels = labels.to(device)\n",
    "        outputs = model(images)\n",
    "        _, predicted = torch.max(outputs, dim=1)\n",
    "        total += labels.shape[0]\n",
    "        correct += int((predicted == labels).sum())\n",
    "    print(f'accuracy {correct / total}')"
   ]
  },
  {
   "cell_type": "markdown",
   "metadata": {},
   "source": [
    "as we can see , accuracy is not good because of the data augmentation\n",
    "\n",
    "now we will implement the deformable convolution, how should we do it ?\n",
    "\n",
    "manipulation of the torch Conv2D for deformable convolution seems unfesible so we have to think of another way.\n",
    "the trick is to use the offset values to make a bigger matrix with size X_input * kernel_size and y_input * kernel_size and then use a regular convolution with stride = kernel_size to get the job done.\n",
    "its like we are doing the sampling process manualy before hand and then use a regular convolution to get the output.\n",
    "for sampling we use the grid_sample function in pytorch which gets a grid and an input and samples the input using the grid.\n",
    "this fuction samples the input one element at a time, so we have to use it kernel_size*kernel_size times to get all the values needed for the convolution.\n",
    "\n",
    "\n",
    "the exact process is as follows :\n",
    "\n",
    "1. we pass the input through a regular conv layer to get the offset values\n",
    "\n",
    "2. we use the offset values to sample the input using grid sampling, we do it kernel_size*kernel_size times to get all the values in the conv window\n",
    "\n",
    "3. now we have kernel_size*kernel_size matrices each corresponding to a value in a specific location in the conv window for each input element, we interleave these matrices to get a big matrix with size X_input * kernel_size and y_input * kernel_size\n",
    "\n",
    "4. we pass this big matrix through a regular conv layer with stride = kernel_size to get the output\n",
    "\n",
    "\n",
    "then we use the same structure as above to test the deformable convolution performance"
   ]
  },
  {
   "cell_type": "code",
   "execution_count": 6,
   "metadata": {},
   "outputs": [],
   "source": [
    "class def_conv_layer(nn.Module):\n",
    "    def __init__(self, in_channels, out_channels, spatial_size, kernel_size, stride=1, padding=0, dilation=1, bias=True):\n",
    "        super(def_conv_layer, self).__init__()\n",
    "        self.kernel_size = kernel_size\n",
    "        self.in_channels = in_channels\n",
    "        self.out_channels = out_channels\n",
    "        self.stride = stride\n",
    "        self.padding = padding\n",
    "\n",
    "        self.offset_conv = nn.Conv2d(in_channels = in_channels, out_channels = 2 * kernel_size * kernel_size, kernel_size = 3, stride = 1, padding = 1, dilation = 1, bias = bias)\n",
    "        self.grid_smaple = nn.functional.grid_sample\n",
    "        self.conv = nn.Conv2d(in_channels = in_channels, out_channels = out_channels, kernel_size = kernel_size, stride = kernel_size, padding = padding , dilation = dilation, bias = bias)\n",
    "\n",
    "    def forward(self, x):\n",
    "        offset = self.offset_conv(x)\n",
    "        offset = torch.reshape(offset, (x.shape[0], x.shape[2], x.shape[3], self.kernel_size, self.kernel_size, 2))\n",
    "        \n",
    "        \n",
    "        expand_matrices_list = []\n",
    "        for i in range(self.kernel_size):\n",
    "            for j in range(self.kernel_size):\n",
    "                expand_matrices_list.append(self.grid_smaple(x, offset[:, :, :, i, j, :], mode='bilinear', padding_mode='zeros', align_corners=None))\n",
    "        \n",
    "        expanded_x = torch.zeros((x.shape[0], x.shape[1], x.shape[2]*self.kernel_size, x.shape[3]*self.kernel_size)).to(device)\n",
    "\n",
    "        # interleaving the matrices in the list\n",
    "        mat1 = torch.stack((expand_matrices_list[0], expand_matrices_list[1], expand_matrices_list[2]), dim = 3)\n",
    "        mat1 = mat1.permute(0,1,2,4,3)\n",
    "        mat1 = torch.flatten(mat1, start_dim=3, end_dim=4)\n",
    "        mat2 = torch.stack((expand_matrices_list[3], expand_matrices_list[4], expand_matrices_list[5]), dim = 3)\n",
    "        mat2 = mat2.permute(0,1,2,4,3)\n",
    "        mat2 = torch.flatten(mat2, start_dim=3, end_dim=4)\n",
    "        mat3 = torch.stack((expand_matrices_list[6], expand_matrices_list[7], expand_matrices_list[8]), dim = 3)\n",
    "        mat3 = mat3.permute(0,1,2,4,3)\n",
    "        mat3 = torch.flatten(mat3, start_dim=3, end_dim=4)\n",
    "\n",
    "        expanded_x = torch.stack((mat1, mat2, mat3), dim = 2)\n",
    "        expanded_x = expanded_x.permute(0,1,3,2,4)\n",
    "        expanded_x = torch.flatten(expanded_x, start_dim=2, end_dim=3)\n",
    "        \n",
    "        # check if the two methods are the same\n",
    "        \n",
    "        out = self.conv(expanded_x)\n",
    "        return out\n",
    "    \n",
    "\n",
    "\n",
    "# now we use the same structure as before but with the new conv layer\n",
    "class def_conv_model(nn.Module):\n",
    "    def __init__(self, in_channels, out_channels, kernel_size, stride=1, padding=0, dilation=1, bias=True):\n",
    "        super(def_conv_model, self).__init__()\n",
    "        self.in_channels = in_channels\n",
    "        self.out_channels = out_channels\n",
    "        self.kernel_size = kernel_size\n",
    "        self.stride = stride\n",
    "        self.padding = padding\n",
    "\n",
    "        self.conv = def_conv_layer(in_channels, 1, (28, 28), kernel_size, stride, padding, dilation, bias)\n",
    "        self.relu = nn.ReLU()\n",
    "        self.maxpool = nn.MaxPool2d(2, 2)\n",
    "        self.flatten = nn.Flatten()\n",
    "        self.fc = nn.Linear(196, 10)\n",
    "\n",
    "    def forward(self, x):\n",
    "        x = self.conv(x)\n",
    "        x = self.relu(x)\n",
    "        x = self.maxpool(x)\n",
    "        x = self.flatten(x)\n",
    "        x = self.fc(x)\n",
    "        return x\n",
    "        "
   ]
  },
  {
   "cell_type": "code",
   "execution_count": 7,
   "metadata": {},
   "outputs": [
    {
     "name": "stderr",
     "output_type": "stream",
     "text": [
      "c:\\Users\\lesol\\AppData\\Local\\Programs\\Python\\Python311\\Lib\\site-packages\\torch\\nn\\functional.py:4236: UserWarning: Default grid_sample and affine_grid behavior has changed to align_corners=False since 1.3.0. Please specify align_corners=True if the old behavior is desired. See the documentation of grid_sample for details.\n",
      "  warnings.warn(\n"
     ]
    },
    {
     "name": "stdout",
     "output_type": "stream",
     "text": [
      "epoch 0, loss 1.5163733959197998\n",
      "epoch 1, loss 1.8861477375030518\n",
      "epoch 2, loss 1.4583137035369873\n",
      "epoch 3, loss 1.5518393516540527\n",
      "epoch 4, loss 1.4515018463134766\n",
      "epoch 5, loss 1.2525076866149902\n",
      "epoch 6, loss 1.492597222328186\n",
      "epoch 7, loss 1.478524088859558\n",
      "epoch 8, loss 1.5587639808654785\n",
      "epoch 9, loss 1.601120114326477\n"
     ]
    }
   ],
   "source": [
    "# training loop\n",
    "model = def_conv_model(1, 1, 3).to(device)\n",
    "criterion = nn.CrossEntropyLoss()\n",
    "optimizer = torch.optim.Adam(model.parameters(), lr=0.003)\n",
    "\n",
    "for epoch in range(10):\n",
    "    for i, (images, labels) in enumerate(train_loader):\n",
    "        images = images.to(device)\n",
    "        labels = labels.to(device)\n",
    "        optimizer.zero_grad()\n",
    "        outputs = model(images)\n",
    "        loss = criterion(outputs, labels)\n",
    "        loss.backward()\n",
    "        optimizer.step()\n",
    "    print(f'epoch {epoch}, loss {loss.item()}')"
   ]
  },
  {
   "cell_type": "code",
   "execution_count": 8,
   "metadata": {},
   "outputs": [
    {
     "name": "stdout",
     "output_type": "stream",
     "text": [
      "accuracy 0.5071\n"
     ]
    }
   ],
   "source": [
    "# test\n",
    "with torch.no_grad():\n",
    "    correct = 0\n",
    "    total = 0\n",
    "    for images, labels in test_loader:\n",
    "        images = images.to(device)\n",
    "        labels = labels.to(device)\n",
    "        outputs = model(images)\n",
    "        _, predicted = torch.max(outputs, dim=1)\n",
    "        total += labels.shape[0]\n",
    "        correct += int((predicted == labels).sum())\n",
    "    print(f'accuracy {correct / total}')"
   ]
  },
  {
   "cell_type": "markdown",
   "metadata": {},
   "source": [
    "<div dir=\"rtl\">\n",
    "<font face=\"B Nazanin\" size=\"5\">\n",
    "مشاهده می شود کانولوشن دیفورمیبل بهتر عمل کرده است. با توجه به دیتاست ساده و سبک mnist این تفاوت به خوبی مشخص نیست اما در دیتاست های بزرگتر و پیچیده تفاوت بیشتری مشخص خواهد بود\n",
    "</font>\n",
    "</div>"
   ]
  }
 ],
 "metadata": {
  "kernelspec": {
   "display_name": "Python 3",
   "language": "python",
   "name": "python3"
  },
  "language_info": {
   "codemirror_mode": {
    "name": "ipython",
    "version": 3
   },
   "file_extension": ".py",
   "mimetype": "text/x-python",
   "name": "python",
   "nbconvert_exporter": "python",
   "pygments_lexer": "ipython3",
   "version": "3.11.2"
  }
 },
 "nbformat": 4,
 "nbformat_minor": 2
}
